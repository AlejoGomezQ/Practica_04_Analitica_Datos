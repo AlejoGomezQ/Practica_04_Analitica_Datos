{
  "cells": [
    {
      "cell_type": "markdown",
      "metadata": {
        "id": "view-in-github",
        "colab_type": "text"
      },
      "source": [
        "<a href=\"https://colab.research.google.com/github/AlejoGomezQ/Practica_04_Analitica_Datos/blob/main/Calidad_Datos.ipynb\" target=\"_parent\"><img src=\"https://colab.research.google.com/assets/colab-badge.svg\" alt=\"Open In Colab\"/></a>"
      ]
    },
    {
      "cell_type": "markdown",
      "id": "7b83add5",
      "metadata": {
        "id": "7b83add5"
      },
      "source": [
        "# Perfilado de Datos - Registro Único de Vendedores de Cartagena\n"
      ]
    },
    {
      "cell_type": "markdown",
      "id": "7743d88c",
      "metadata": {
        "id": "7743d88c"
      },
      "source": [
        "## 1. Importar librerías"
      ]
    },
    {
      "cell_type": "code",
      "execution_count": 2,
      "id": "c0fdc7f8",
      "metadata": {
        "colab": {
          "base_uri": "https://localhost:8080/",
          "height": 505
        },
        "id": "c0fdc7f8",
        "outputId": "ea9e0e2f-e576-4635-b2e7-1711151ae5b6"
      },
      "outputs": [
        {
          "output_type": "error",
          "ename": "ModuleNotFoundError",
          "evalue": "No module named 'ydata_profiling'",
          "traceback": [
            "\u001b[0;31m---------------------------------------------------------------------------\u001b[0m",
            "\u001b[0;31mModuleNotFoundError\u001b[0m                       Traceback (most recent call last)",
            "\u001b[0;32m/tmp/ipython-input-2829373970.py\u001b[0m in \u001b[0;36m<cell line: 0>\u001b[0;34m()\u001b[0m\n\u001b[1;32m      1\u001b[0m \u001b[0;32mimport\u001b[0m \u001b[0mpandas\u001b[0m \u001b[0;32mas\u001b[0m \u001b[0mpd\u001b[0m\u001b[0;34m\u001b[0m\u001b[0;34m\u001b[0m\u001b[0m\n\u001b[0;32m----> 2\u001b[0;31m \u001b[0;32mfrom\u001b[0m \u001b[0mydata_profiling\u001b[0m \u001b[0;32mimport\u001b[0m \u001b[0mProfileReport\u001b[0m\u001b[0;34m\u001b[0m\u001b[0;34m\u001b[0m\u001b[0m\n\u001b[0m",
            "\u001b[0;31mModuleNotFoundError\u001b[0m: No module named 'ydata_profiling'",
            "",
            "\u001b[0;31m---------------------------------------------------------------------------\u001b[0;32m\nNOTE: If your import is failing due to a missing package, you can\nmanually install dependencies using either !pip or !apt.\n\nTo view examples of installing some common dependencies, click the\n\"Open Examples\" button below.\n\u001b[0;31m---------------------------------------------------------------------------\u001b[0m\n"
          ],
          "errorDetails": {
            "actions": [
              {
                "action": "open_url",
                "actionText": "Open Examples",
                "url": "/notebooks/snippets/importing_libraries.ipynb"
              }
            ]
          }
        }
      ],
      "source": [
        "!pip install ydata_profiling\n",
        "import pandas as pd\n",
        "from ydata_profiling import ProfileReport"
      ]
    },
    {
      "cell_type": "markdown",
      "id": "78a75366",
      "metadata": {
        "id": "78a75366"
      },
      "source": [
        "## 2. Cargar los datos originales"
      ]
    },
    {
      "cell_type": "code",
      "execution_count": null,
      "id": "87b3686f",
      "metadata": {
        "id": "87b3686f",
        "outputId": "f3fd2fad-3329-4d16-ccc1-b0018dbe9f34"
      },
      "outputs": [
        {
          "name": "stdout",
          "output_type": "stream",
          "text": [
            "Dataset cargado con 3416 filas y 8 columnas\n"
          ]
        },
        {
          "data": {
            "text/html": [
              "<div>\n",
              "<style scoped>\n",
              "    .dataframe tbody tr th:only-of-type {\n",
              "        vertical-align: middle;\n",
              "    }\n",
              "\n",
              "    .dataframe tbody tr th {\n",
              "        vertical-align: top;\n",
              "    }\n",
              "\n",
              "    .dataframe thead th {\n",
              "        text-align: right;\n",
              "    }\n",
              "</style>\n",
              "<table border=\"1\" class=\"dataframe\">\n",
              "  <thead>\n",
              "    <tr style=\"text-align: right;\">\n",
              "      <th></th>\n",
              "      <th>Actividad_Oferta</th>\n",
              "      <th>Localidad</th>\n",
              "      <th>Barrios</th>\n",
              "      <th>Tipo_de_Venta</th>\n",
              "      <th>Tipo_de_Oferta</th>\n",
              "      <th>Genero</th>\n",
              "      <th>Etnia</th>\n",
              "      <th>Estado</th>\n",
              "    </tr>\n",
              "  </thead>\n",
              "  <tbody>\n",
              "    <tr>\n",
              "      <th>0</th>\n",
              "      <td>ARTESANIAS</td>\n",
              "      <td>'LOCALIDAD 3'</td>\n",
              "      <td>'ALAMEDA LA VICTORIA'</td>\n",
              "      <td>ESTACIONARIO</td>\n",
              "      <td>BIENES</td>\n",
              "      <td>FEMENINO</td>\n",
              "      <td>NINGUNA</td>\n",
              "      <td>ACTIVO</td>\n",
              "    </tr>\n",
              "    <tr>\n",
              "      <th>1</th>\n",
              "      <td>AGUA/REFRESCOS</td>\n",
              "      <td>'LOCALIDAD 1'</td>\n",
              "      <td>BAZURTO</td>\n",
              "      <td>AMBULANTE</td>\n",
              "      <td>SERVICIOS</td>\n",
              "      <td>MASCULINO</td>\n",
              "      <td>NINGUNA</td>\n",
              "      <td>ACTIVO</td>\n",
              "    </tr>\n",
              "    <tr>\n",
              "      <th>2</th>\n",
              "      <td>AGUA/REFRESCOS</td>\n",
              "      <td>'LOCALIDAD 1'</td>\n",
              "      <td>BAZURTO</td>\n",
              "      <td>ESTACIONARIO</td>\n",
              "      <td>BIENES</td>\n",
              "      <td>FEMENINO</td>\n",
              "      <td>NINGUNA</td>\n",
              "      <td>ACTIVO</td>\n",
              "    </tr>\n",
              "    <tr>\n",
              "      <th>3</th>\n",
              "      <td>AGUA/REFRESCOS</td>\n",
              "      <td>'LOCALIDAD 1'</td>\n",
              "      <td>BAZURTO</td>\n",
              "      <td>AMBULANTE</td>\n",
              "      <td>SERVICIOS</td>\n",
              "      <td>FEMENINO</td>\n",
              "      <td>NINGUNA</td>\n",
              "      <td>ACTIVO</td>\n",
              "    </tr>\n",
              "    <tr>\n",
              "      <th>4</th>\n",
              "      <td>AGUA/REFRESCOS</td>\n",
              "      <td>'LOCALIDAD 1'</td>\n",
              "      <td>BAZURTO</td>\n",
              "      <td>ESTACIONARIO</td>\n",
              "      <td>BIENES</td>\n",
              "      <td>FEMENINO</td>\n",
              "      <td>NINGUNA</td>\n",
              "      <td>ACTIVO</td>\n",
              "    </tr>\n",
              "  </tbody>\n",
              "</table>\n",
              "</div>"
            ],
            "text/plain": [
              "  Actividad_Oferta      Localidad                Barrios Tipo_de_Venta  \\\n",
              "0       ARTESANIAS  'LOCALIDAD 3'  'ALAMEDA LA VICTORIA'  ESTACIONARIO   \n",
              "1   AGUA/REFRESCOS  'LOCALIDAD 1'                BAZURTO     AMBULANTE   \n",
              "2   AGUA/REFRESCOS  'LOCALIDAD 1'                BAZURTO  ESTACIONARIO   \n",
              "3   AGUA/REFRESCOS  'LOCALIDAD 1'                BAZURTO     AMBULANTE   \n",
              "4   AGUA/REFRESCOS  'LOCALIDAD 1'                BAZURTO  ESTACIONARIO   \n",
              "\n",
              "  Tipo_de_Oferta     Genero    Etnia  Estado  \n",
              "0         BIENES   FEMENINO  NINGUNA  ACTIVO  \n",
              "1      SERVICIOS  MASCULINO  NINGUNA  ACTIVO  \n",
              "2         BIENES   FEMENINO  NINGUNA  ACTIVO  \n",
              "3      SERVICIOS   FEMENINO  NINGUNA  ACTIVO  \n",
              "4         BIENES   FEMENINO  NINGUNA  ACTIVO  "
            ]
          },
          "execution_count": 2,
          "metadata": {},
          "output_type": "execute_result"
        }
      ],
      "source": [
        "df = pd.read_csv('Registro__unico_de_vendedores_de_Cartagena.csv')\n",
        "print(f\"Dataset cargado con {df.shape[0]} filas y {df.shape[1]} columnas\")\n",
        "df.head()"
      ]
    },
    {
      "cell_type": "markdown",
      "id": "075dd139",
      "metadata": {
        "id": "075dd139"
      },
      "source": [
        "## 3. Generar reporte de perfilado\n",
        "\n",
        "Generamos un reporte completo de perfilado de datos que incluye:\n",
        "- Estadísticas descriptivas\n",
        "- Distribuciones de variables\n",
        "- Correlaciones\n",
        "- Valores faltantes\n",
        "- Alertas de calidad de datos"
      ]
    },
    {
      "cell_type": "code",
      "execution_count": null,
      "id": "a5bc4eab",
      "metadata": {
        "colab": {
          "referenced_widgets": [
            "2c60e85cb72040e29e520869d5dae534"
          ]
        },
        "id": "a5bc4eab",
        "outputId": "446ea3dc-fa4d-4516-fe99-d3fe4c07e357"
      },
      "outputs": [
        {
          "data": {
            "application/vnd.jupyter.widget-view+json": {
              "model_id": "2c60e85cb72040e29e520869d5dae534",
              "version_major": 2,
              "version_minor": 0
            },
            "text/plain": [
              "Summarize dataset:   0%|          | 0/5 [00:00<?, ?it/s]"
            ]
          },
          "metadata": {},
          "output_type": "display_data"
        }
      ],
      "source": [
        "profile = ProfileReport(df, title=\"Reporte de Perfilado - Vendedores de Cartagena\", explorative=True)\n",
        "profile.to_file(\"reporte_perfilado_vendedores.html\")\n",
        "\n",
        "print(\"Reporte generado exitosamente: reporte_perfilado_vendedores.html\")"
      ]
    },
    {
      "cell_type": "markdown",
      "id": "a9a16ea5",
      "metadata": {
        "id": "a9a16ea5"
      },
      "source": [
        "## 4. Visualizar reporte"
      ]
    },
    {
      "cell_type": "code",
      "execution_count": 1,
      "id": "3bd66bcb",
      "metadata": {
        "colab": {
          "base_uri": "https://localhost:8080/",
          "height": 211
        },
        "id": "3bd66bcb",
        "outputId": "fce2a46a-fcaa-461c-ed37-29f59e243bf4"
      },
      "outputs": [
        {
          "output_type": "error",
          "ename": "NameError",
          "evalue": "name 'profile' is not defined",
          "traceback": [
            "\u001b[0;31m---------------------------------------------------------------------------\u001b[0m",
            "\u001b[0;31mNameError\u001b[0m                                 Traceback (most recent call last)",
            "\u001b[0;32m/tmp/ipython-input-1554064336.py\u001b[0m in \u001b[0;36m<cell line: 0>\u001b[0;34m()\u001b[0m\n\u001b[0;32m----> 1\u001b[0;31m \u001b[0mprofile\u001b[0m\u001b[0;34m.\u001b[0m\u001b[0mto_notebook_iframe\u001b[0m\u001b[0;34m(\u001b[0m\u001b[0;34m)\u001b[0m\u001b[0;34m\u001b[0m\u001b[0;34m\u001b[0m\u001b[0m\n\u001b[0m",
            "\u001b[0;31mNameError\u001b[0m: name 'profile' is not defined"
          ]
        }
      ],
      "source": [
        "profile.to_notebook_iframe()"
      ]
    },
    {
      "cell_type": "markdown",
      "id": "bf57c107",
      "metadata": {
        "id": "bf57c107"
      },
      "source": [
        "## 5. Diagnóstico de calidad de datos\n",
        "\n",
        "### Variables redundantes\n",
        "\n",
        "Durante el análisis exploratorio se identificó que la variable **barrio** presenta redundancia con respecto a la variable **localidad**. Si bien las localidades mantienen nombres únicos que permiten una identificación clara, los barrios pueden compartir el mismo nombre entre diferentes localidades.\n",
        "\n",
        "Debido a que la variable **localidad** proporciona un mayor nivel de granularidad y especificidad geográfica sin ambigüedades, se tomó la decisión de **eliminar la variable barrio** del conjunto de datos.\n",
        "\n",
        "### Análisis de datos atípicos\n",
        "\n",
        "Durante la revisión del conjunto de datos, se identificaron inconsistencias menores en el formato de ciertas variables categóricas:\n",
        "\n",
        "- **Género**: Se detectaron valores registrados en minúsculas (\"femenino\" y \"masculino\").\n",
        "\n",
        "- **Etnia**: De manera similar, se encontraron 5 registros con el valor \"afrocolombiano\" en minúsculas.\n",
        "\n",
        "Estas inconsistencias fueron mínimas en cantidad y, dado que ya existían categorías correctamente definidas para estos valores, se realizó una **normalización manual** para estandarizar el formato.\n",
        "\n",
        "Tras la corrección de estos datos atípicos, se verificó que **no existen valores nulos** en el conjunto de datos, lo que confirma la integridad y completitud del dataset."
      ]
    },
    {
      "cell_type": "markdown",
      "id": "15a888f9",
      "metadata": {
        "id": "15a888f9"
      },
      "source": [
        "## 6. Limpieza de Datos"
      ]
    },
    {
      "cell_type": "markdown",
      "id": "57bccfb0",
      "metadata": {
        "id": "57bccfb0"
      },
      "source": [
        "### 6.1 Crear copia de seguridad del dataset original"
      ]
    },
    {
      "cell_type": "code",
      "execution_count": null,
      "id": "4ca95939",
      "metadata": {
        "id": "4ca95939"
      },
      "outputs": [],
      "source": [
        "import shutil\n",
        "from datetime import datetime\n",
        "\n",
        "archivo_original = 'Registro__unico_de_vendedores_de_Cartagena.csv'\n",
        "timestamp = datetime.now().strftime('%Y%m%d_%H%M%S')\n",
        "archivo_backup = f'Registro_vendedores_backup_{timestamp}.csv'\n",
        "\n",
        "shutil.copy2(archivo_original, archivo_backup)"
      ]
    },
    {
      "cell_type": "markdown",
      "id": "c6bdafe9",
      "metadata": {
        "id": "c6bdafe9"
      },
      "source": [
        "### 6.2 Cargar datos y verificar estructura"
      ]
    },
    {
      "cell_type": "code",
      "execution_count": null,
      "id": "8184aa1e",
      "metadata": {
        "id": "8184aa1e"
      },
      "outputs": [],
      "source": [
        "df_limpieza = pd.read_csv('Registro__unico_de_vendedores_de_Cartagena.csv')\n",
        "\n",
        "print(f\"Dimensiones: {df_limpieza.shape[0]} filas x {df_limpieza.shape[1]} columnas\")\n",
        "print(f\"Valores nulos: {df_limpieza.isnull().sum().sum()}\")\n",
        "\n",
        "df_limpieza.head()"
      ]
    },
    {
      "cell_type": "markdown",
      "id": "536917cc",
      "metadata": {
        "id": "536917cc"
      },
      "source": [
        "### 6.3 Eliminación de variables redundantes"
      ]
    },
    {
      "cell_type": "code",
      "execution_count": null,
      "id": "4b3a5ad2",
      "metadata": {
        "id": "4b3a5ad2"
      },
      "outputs": [],
      "source": [
        "columnas_posibles_barrio = ['barrio', 'Barrio', 'BARRIO', 'Barrio/Vereda']\n",
        "\n",
        "for col in columnas_posibles_barrio:\n",
        "    if col in df_limpieza.columns:\n",
        "        df_limpieza = df_limpieza.drop(columns=[col])\n",
        "        break\n",
        "\n",
        "df_limpieza.shape"
      ]
    },
    {
      "cell_type": "markdown",
      "id": "b590864d",
      "metadata": {
        "id": "b590864d"
      },
      "source": [
        "### 6.4 Corrección de datos atípicos - Estandarización"
      ]
    },
    {
      "cell_type": "code",
      "execution_count": null,
      "id": "70cf96df",
      "metadata": {
        "id": "70cf96df"
      },
      "outputs": [],
      "source": [
        "columnas_posibles_genero = ['Genero', 'genero', 'Género', 'género', 'GENERO', 'GÉNERO', 'Sexo', 'sexo']\n",
        "columnas_posibles_etnia = ['Etnia', 'etnia', 'ETNIA', 'Grupo Etnico', 'grupo_etnico']\n",
        "\n",
        "columna_genero = None\n",
        "columna_etnia = None\n",
        "\n",
        "for col in columnas_posibles_genero:\n",
        "    if col in df_limpieza.columns:\n",
        "        columna_genero = col\n",
        "        break\n",
        "\n",
        "for col in columnas_posibles_etnia:\n",
        "    if col in df_limpieza.columns:\n",
        "        columna_etnia = col\n",
        "        break"
      ]
    },
    {
      "cell_type": "code",
      "execution_count": null,
      "id": "a004cf98",
      "metadata": {
        "id": "a004cf98"
      },
      "outputs": [],
      "source": [
        "if columna_genero:\n",
        "    df_limpieza[columna_genero] = df_limpieza[columna_genero].str.upper().str.strip()\n",
        "\n",
        "if columna_etnia:\n",
        "    df_limpieza[columna_etnia] = df_limpieza[columna_etnia].str.upper().str.strip()\n",
        "\n",
        "df_limpieza.head()"
      ]
    },
    {
      "cell_type": "markdown",
      "id": "82b2fabb",
      "metadata": {
        "id": "82b2fabb"
      },
      "source": [
        "### 6.5 Análisis de correlaciones\n",
        "\n",
        "#### Correlaciones peligrosamente altas\n",
        "\n",
        "Según el análisis de correlaciones del dataset, **no se evidenciaron correlaciones peligrosamente altas** entre las variables. No se hace necesario la eliminación de ninguna variable.\n",
        "\n",
        "\n",
        "#### Correlaciones con la variable objetivo (ESTADO)\n",
        "\n",
        "La variable objetivo **ESTADO** es categórica binaria con dos valores posibles: **ACTIVO** o **INACTIVO**. A continuación se presenta el análisis de correlación de las demás variables con respecto a esta variable objetivo:\n",
        "\n",
        "**Correlaciones Normales:**\n",
        "\n",
        "- **Etnia**: Presenta la correlación más alta con la variable objetivo (**0.2258**), aunque moderada.\n",
        "\n",
        "- **Tipo_de_oferta**: Segunda variable con mayor correlación (**0.1348**), indicando una relación moderada-baja con el estado del vendedor.\n",
        "\n",
        "**Correlaciones Bajas:**\n",
        "\n",
        "- **Tipo_de_Venta**: Correlación de **0.0947**\n",
        "- **Actividad_Oferta**: Correlación de **0.0873**\n",
        "- **Localidad**: Correlación de **0.0584**\n",
        "- **Género**: Presenta la correlación más baja (**0.0375**)\n",
        "\n",
        "#### Interpretación y decisiones\n",
        "\n",
        "**Variable con Mayor Correlación:**  \n",
        "**Etnia** (0.2258) - Esta variable se conserva por su mayor capacidad predictiva relativa.\n",
        "\n",
        "**Variable con Menor Correlación:**  \n",
        "**Género** (0.0375) - Aunque presenta la correlación más baja.\n",
        "\n",
        "**Conclusión**: Se mantienen todas las variables en el dataset limpio, priorizando toda la información"
      ]
    },
    {
      "cell_type": "code",
      "execution_count": null,
      "id": "ef4f6e18",
      "metadata": {
        "id": "ef4f6e18"
      },
      "outputs": [],
      "source": [
        "df_correlacion = df_limpieza.copy()\n",
        "columnas_categoricas = df_correlacion.select_dtypes(include=['object']).columns\n",
        "\n",
        "le = LabelEncoder()\n",
        "for col in columnas_categoricas:\n",
        "    df_correlacion[col] = le.fit_transform(df_correlacion[col].astype(str))\n",
        "\n",
        "matriz_correlacion = df_correlacion.corr()\n",
        "\n",
        "posibles_nombres_estado = ['ESTADO', 'Estado', 'estado']\n",
        "columna_estado = None\n",
        "\n",
        "for nombre in posibles_nombres_estado:\n",
        "    if nombre in df_limpieza.columns:\n",
        "        columna_estado = nombre\n",
        "        break\n",
        "\n",
        "correlaciones_objetivo = matriz_correlacion[columna_estado].sort_values(ascending=False)\n",
        "correlaciones_objetivo"
      ]
    },
    {
      "cell_type": "markdown",
      "id": "de62120f",
      "metadata": {
        "id": "de62120f"
      },
      "source": [
        "### 6.6 Exportar datos limpios"
      ]
    },
    {
      "cell_type": "code",
      "execution_count": null,
      "id": "8cf1e1a1",
      "metadata": {
        "id": "8cf1e1a1"
      },
      "outputs": [],
      "source": [
        "df_limpieza.to_csv('Registro_vendedores_limpio.csv', index=False)\n",
        "\n",
        "print(f\"Registros: {df_limpieza.shape[0]}, Columnas: {df_limpieza.shape[1]}\")"
      ]
    }
  ],
  "metadata": {
    "kernelspec": {
      "display_name": "Python 3.11 (practica_04_analitica)",
      "language": "python",
      "name": "practica_04_analitica"
    },
    "language_info": {
      "codemirror_mode": {
        "name": "ipython",
        "version": 3
      },
      "file_extension": ".py",
      "mimetype": "text/x-python",
      "name": "python",
      "nbconvert_exporter": "python",
      "pygments_lexer": "ipython3",
      "version": "3.11.14"
    },
    "colab": {
      "provenance": [],
      "include_colab_link": true
    }
  },
  "nbformat": 4,
  "nbformat_minor": 5
}