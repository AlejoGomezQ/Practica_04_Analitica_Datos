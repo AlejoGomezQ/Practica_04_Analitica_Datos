{
  "cells": [
    {
      "cell_type": "markdown",
      "metadata": {
        "id": "view-in-github",
        "colab_type": "text"
      },
      "source": [
        "<a href=\"https://colab.research.google.com/github/AlejoGomezQ/Practica_04_Analitica_Datos/blob/main/optimizacion_arbol.ipynb\" target=\"_parent\"><img src=\"https://colab.research.google.com/assets/colab-badge.svg\" alt=\"Open In Colab\"/></a>"
      ]
    },
    {
      "cell_type": "markdown",
      "id": "f20450c4",
      "metadata": {
        "id": "f20450c4"
      },
      "source": [
        "# Optimización del arbol de decisión con GridSearchCV\n",
        "\n"
      ]
    },
    {
      "cell_type": "markdown",
      "id": "2eed4312",
      "metadata": {
        "id": "2eed4312"
      },
      "source": [
        "## 1. Importar librerías"
      ]
    },
    {
      "cell_type": "code",
      "execution_count": null,
      "id": "1cfe027d",
      "metadata": {
        "id": "1cfe027d"
      },
      "outputs": [],
      "source": [
        "import pandas as pd\n",
        "import numpy as np\n",
        "from sklearn.model_selection import train_test_split, GridSearchCV\n",
        "from sklearn.preprocessing import LabelEncoder\n",
        "from sklearn.tree import DecisionTreeClassifier, plot_tree\n",
        "from sklearn.metrics import accuracy_score, precision_score, recall_score, f1_score, confusion_matrix, classification_report\n",
        "import matplotlib.pyplot as plt\n",
        "import warnings\n",
        "warnings.filterwarnings('ignore')"
      ]
    },
    {
      "cell_type": "markdown",
      "id": "10372957",
      "metadata": {
        "id": "10372957"
      },
      "source": [
        "## 2. Cargar y preparar datos"
      ]
    },
    {
      "cell_type": "code",
      "execution_count": null,
      "id": "3f66ea85",
      "metadata": {
        "id": "3f66ea85"
      },
      "outputs": [],
      "source": [
        "df = pd.read_csv('Registro_vendedores_limpio.csv')\n",
        "\n",
        "posibles_nombres_estado = ['ESTADO', 'Estado', 'estado']\n",
        "columna_estado = None\n",
        "\n",
        "for nombre in posibles_nombres_estado:\n",
        "    if nombre in df.columns:\n",
        "        columna_estado = nombre\n",
        "        break\n",
        "\n",
        "y = df[columna_estado]\n",
        "X = df.drop(columns=[columna_estado])\n",
        "\n",
        "print(f\"Dimensiones: {X.shape}\")\n",
        "print(f\"Variable objetivo: {columna_estado}\")"
      ]
    },
    {
      "cell_type": "markdown",
      "id": "71e87b54",
      "metadata": {
        "id": "71e87b54"
      },
      "source": [
        "## 3. Codificación de variables"
      ]
    },
    {
      "cell_type": "code",
      "execution_count": null,
      "id": "917df928",
      "metadata": {
        "id": "917df928"
      },
      "outputs": [],
      "source": [
        "le_X = {}\n",
        "X_encoded = X.copy()\n",
        "\n",
        "for col in X.columns:\n",
        "    if X[col].dtype == 'object':\n",
        "        le_X[col] = LabelEncoder()\n",
        "        X_encoded[col] = le_X[col].fit_transform(X[col].astype(str))\n",
        "\n",
        "le_y = LabelEncoder()\n",
        "y_encoded = le_y.fit_transform(y)\n",
        "\n",
        "X_encoded.head()"
      ]
    },
    {
      "cell_type": "markdown",
      "id": "9993ce7f",
      "metadata": {
        "id": "9993ce7f"
      },
      "source": [
        "## 4. División de datos (70% entrenamiento, 30% prueba)"
      ]
    },
    {
      "cell_type": "code",
      "execution_count": null,
      "id": "b3c686aa",
      "metadata": {
        "id": "b3c686aa"
      },
      "outputs": [],
      "source": [
        "X_train, X_test, y_train, y_test = train_test_split(\n",
        "    X_encoded, y_encoded, test_size=0.3, random_state=42, stratify=y_encoded\n",
        ")\n",
        "\n",
        "print(f\"Entrenamiento: {X_train.shape[0]} registros\")\n",
        "print(f\"Prueba: {X_test.shape[0]} registros\")"
      ]
    },
    {
      "cell_type": "markdown",
      "id": "cd266d81",
      "metadata": {
        "id": "cd266d81"
      },
      "source": [
        "## 6. Definición del Grid de Hiperparámetros\n",
        "\n",
        "- **criterion**: Función para medir la calidad de la división ('gini', 'entropy')\n",
        "- **max_depth**: Profundidad máxima del árbol (None, 5, 10, 15, 20)\n",
        "- **min_samples_split**: Mínimo de muestras requeridas para dividir un nodo (2, 5, 10, 20)\n",
        "- **min_samples_leaf**: Mínimo de muestras requeridas en un nodo hoja (1, 2, 4, 8)\n",
        "- **max_features**: Número máximo de características a considerar (None, 'sqrt', 'log2')"
      ]
    },
    {
      "cell_type": "code",
      "execution_count": null,
      "id": "82afbcd5",
      "metadata": {
        "id": "82afbcd5"
      },
      "outputs": [],
      "source": [
        "param_grid = {\n",
        "    'criterion': ['gini', 'entropy'],\n",
        "    'max_depth': [None, 5, 10, 15, 20],\n",
        "    'min_samples_split': [2, 5, 10, 20],\n",
        "    'min_samples_leaf': [1, 2, 4, 8],\n",
        "    'max_features': [None, 'sqrt', 'log2']\n",
        "}\n",
        "\n",
        "print(f\"Total de combinaciones a probar: {2 * 5 * 4 * 4 * 3} = {2 * 5 * 4 * 4 * 3}\")"
      ]
    },
    {
      "cell_type": "markdown",
      "id": "5ba02c1a",
      "metadata": {
        "id": "5ba02c1a"
      },
      "source": [
        "## 7. GridSearchCV - Búsqueda de mejores hiperparámetros\n",
        "\n",
        "Se utiliza validación cruzada de 5 folds (cv=5) para evaluar cada combinación de hiperparámetros."
      ]
    },
    {
      "cell_type": "code",
      "execution_count": null,
      "id": "d3efb15b",
      "metadata": {
        "id": "d3efb15b"
      },
      "outputs": [],
      "source": [
        "grid_search = GridSearchCV(\n",
        "    estimator=DecisionTreeClassifier(random_state=42),\n",
        "    param_grid=param_grid,\n",
        "    cv=5,\n",
        "    scoring='f1_weighted',\n",
        "    n_jobs=-1,\n",
        "    verbose=1\n",
        ")\n",
        "\n",
        "print(\"Iniciando búsqueda de hiperparámetros...\")\n",
        "grid_search.fit(X_train, y_train)\n",
        "print(\"Búsqueda completada\")"
      ]
    },
    {
      "cell_type": "markdown",
      "id": "0423fbd6",
      "metadata": {
        "id": "0423fbd6"
      },
      "source": [
        "## 8. Mejores hiperparámetros encontrados"
      ]
    },
    {
      "cell_type": "code",
      "execution_count": null,
      "id": "a8043d31",
      "metadata": {
        "id": "a8043d31"
      },
      "outputs": [],
      "source": [
        "print(\"MEJORES HIPERPARÁMETROS\")\n",
        "print(\"=\"*60)\n",
        "for param, valor in grid_search.best_params_.items():\n",
        "    print(f\"{param}: {valor}\")\n",
        "\n",
        "print(f\"\\nMejor F1-Score en validación cruzada: {grid_search.best_score_:.4f}\")"
      ]
    },
    {
      "cell_type": "markdown",
      "id": "e21847dc",
      "metadata": {
        "id": "e21847dc"
      },
      "source": [
        "## 9. Evaluación del Modelo Optimizado"
      ]
    },
    {
      "cell_type": "code",
      "execution_count": null,
      "id": "3e385825",
      "metadata": {
        "id": "3e385825"
      },
      "outputs": [],
      "source": [
        "modelo_optimizado = grid_search.best_estimator_\n",
        "y_pred_optimizado = modelo_optimizado.predict(X_test)\n",
        "\n",
        "print(\"MODELO OPTIMIZADO - CON GRIDSEARCHCV\")\n",
        "print(\"=\"*60)\n",
        "print(f\"Accuracy: {accuracy_score(y_test, y_pred_optimizado):.4f}\")\n",
        "print(f\"Precision: {precision_score(y_test, y_pred_optimizado, average='weighted'):.4f}\")\n",
        "print(f\"Recall: {recall_score(y_test, y_pred_optimizado, average='weighted'):.4f}\")\n",
        "print(f\"F1-Score: {f1_score(y_test, y_pred_optimizado, average='weighted'):.4f}\")\n",
        "print(f\"\\nMatriz de Confusión:\\n{confusion_matrix(y_test, y_pred_optimizado)}\")"
      ]
    },
    {
      "cell_type": "markdown",
      "id": "624f2042",
      "metadata": {
        "id": "624f2042"
      },
      "source": [
        "## 11. Visualización del Árbol Optimizado"
      ]
    },
    {
      "cell_type": "code",
      "execution_count": null,
      "id": "825d10f1",
      "metadata": {
        "id": "825d10f1"
      },
      "outputs": [],
      "source": [
        "plt.figure(figsize=(20, 10))\n",
        "plot_tree(\n",
        "    modelo_optimizado,\n",
        "    feature_names=X.columns,\n",
        "    class_names=le_y.classes_,\n",
        "    filled=True,\n",
        "    rounded=True,\n",
        "    fontsize=10\n",
        ")\n",
        "plt.title(\"Árbol de Decisión Optimizado\", fontsize=16, fontweight='bold')\n",
        "plt.tight_layout()\n",
        "plt.show()"
      ]
    }
  ],
  "metadata": {
    "language_info": {
      "name": "python"
    },
    "colab": {
      "provenance": [],
      "include_colab_link": true
    }
  },
  "nbformat": 4,
  "nbformat_minor": 5
}